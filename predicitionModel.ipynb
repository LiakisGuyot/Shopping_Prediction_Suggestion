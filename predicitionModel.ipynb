{
 "cells": [
  {
   "cell_type": "markdown",
   "source": [
    "## Importation des librairies et transformation des données"
   ],
   "metadata": {
    "collapsed": false
   },
   "id": "940da05dd915cfd3"
  },
  {
   "cell_type": "code",
   "outputs": [
    {
     "name": "stdout",
     "output_type": "stream",
     "text": [
      "Aggregated product\n",
      "      Age  Gender    Location Subscription Status Frequency of Purchases  \\\n",
      "0      18  Female      Alaska                  No                 Weekly   \n",
      "1      18  Female    Illinois                  No            Fortnightly   \n",
      "2      18  Female      Kansas                  No               Annually   \n",
      "3      18  Female    Kentucky                  No            Fortnightly   \n",
      "4      18  Female    Maryland                  No               Annually   \n",
      "...   ...     ...         ...                 ...                    ...   \n",
      "3744   70    Male       Texas                  No         Every 3 Months   \n",
      "3745   70    Male       Texas                 Yes                Monthly   \n",
      "3746   70    Male     Vermont                  No                Monthly   \n",
      "3747   70    Male     Vermont                 Yes               Annually   \n",
      "3748   70    Male  Washington                 Yes              Bi-Weekly   \n",
      "\n",
      "      Item Purchased  \n",
      "0             Shorts  \n",
      "1              Shirt  \n",
      "2              Socks  \n",
      "3               Coat  \n",
      "4              Dress  \n",
      "...              ...  \n",
      "3744          Gloves  \n",
      "3745           Shoes  \n",
      "3746  Jewelry, Jeans  \n",
      "3747           Pants  \n",
      "3748        Sneakers  \n",
      "\n",
      "[3749 rows x 6 columns]\n"
     ]
    }
   ],
   "source": [
    "import pandas as pd\n",
    "import pickle as pk\n",
    "import numpy as np\n",
    "from sklearn.preprocessing import OneHotEncoder, LabelEncoder\n",
    "#Chargement du dataframe\n",
    "df_customer = pd.read_csv('./csv/shopping_behavior_updated.csv', sep=\";\")\n",
    "\n",
    "#On regroupe notre dataframe en fonction des colonnes Age, Gender, Location, Subscription Status, Frequency of Purchases\n",
    "df_customer_info_grouped = df_customer.groupby(['Age','Gender', 'Location', 'Subscription Status','Frequency of Purchases'])\n",
    "\n",
    "def group_values (series):\n",
    "    return list(series)\n",
    "#On regroupe les produits achetés par les clients\n",
    "aggregated_product = df_customer_info_grouped['Item Purchased'].apply(lambda x: ', '.join(x)).reset_index()\n",
    "\n",
    "\n",
    "#On créer notre dataframe correspondant au regroupement des produits achetés par les clients\n",
    "df_grouped_customer_purchase = pd.DataFrame(aggregated_product)\n",
    "\n",
    "print(\"Aggregated product\")\n",
    "print(df_grouped_customer_purchase)\n",
    "\n",
    "df_grouped_customer_purchase.to_csv('./csv/grouped_customer_purchase.csv', sep=';', index=False)"
   ],
   "metadata": {
    "collapsed": false,
    "ExecuteTime": {
     "end_time": "2024-02-21T11:14:43.372312900Z",
     "start_time": "2024-02-21T11:14:43.257793900Z"
    }
   },
   "id": "3397b8b9ece1ecd0",
   "execution_count": 29
  },
  {
   "cell_type": "markdown",
   "source": [
    "## Création de la table des produits"
   ],
   "metadata": {
    "collapsed": false
   },
   "id": "b858287d3c85f102"
  },
  {
   "cell_type": "code",
   "outputs": [
    {
     "name": "stdout",
     "output_type": "stream",
     "text": [
      "      Shorts  Shirt  Socks  Coat  Dress  Boots  Handbag  Sunglasses  Hat  \\\n",
      "0          1      0      0     0      0      0        0           0    0   \n",
      "1          0      1      0     0      0      0        0           0    0   \n",
      "2          0      0      1     0      0      0        0           0    0   \n",
      "3          0      0      0     1      0      0        0           0    0   \n",
      "4          0      0      0     0      1      0        0           0    0   \n",
      "...      ...    ...    ...   ...    ...    ...      ...         ...  ...   \n",
      "3744       0      0      0     0      0      0        0           0    0   \n",
      "3745       0      0      0     0      0      0        0           0    0   \n",
      "3746       0      0      0     0      0      0        0           0    0   \n",
      "3747       0      0      0     0      0      0        0           0    0   \n",
      "3748       0      0      0     0      0      0        0           0    0   \n",
      "\n",
      "      Belt  ...  Sneakers  Sweater  Pants  T-shirt  Jewelry  Skirt  Blouse  \\\n",
      "0        0  ...         0        0      0        0        0      0       0   \n",
      "1        0  ...         0        0      0        0        0      0       0   \n",
      "2        0  ...         0        0      0        0        0      0       0   \n",
      "3        0  ...         0        0      0        0        0      0       0   \n",
      "4        0  ...         0        0      0        0        0      0       0   \n",
      "...    ...  ...       ...      ...    ...      ...      ...    ...     ...   \n",
      "3744     0  ...         0        0      0        0        0      0       0   \n",
      "3745     0  ...         0        0      0        0        0      0       0   \n",
      "3746     0  ...         0        0      0        0        1      0       0   \n",
      "3747     0  ...         0        0      1        0        0      0       0   \n",
      "3748     0  ...         1        0      0        0        0      0       0   \n",
      "\n",
      "      Sandals  Hoodie  Shoes  \n",
      "0           0       0      0  \n",
      "1           0       0      0  \n",
      "2           0       0      0  \n",
      "3           0       0      0  \n",
      "4           0       0      0  \n",
      "...       ...     ...    ...  \n",
      "3744        0       0      0  \n",
      "3745        0       0      1  \n",
      "3746        0       0      0  \n",
      "3747        0       0      0  \n",
      "3748        0       0      0  \n",
      "\n",
      "[3749 rows x 25 columns]\n"
     ]
    }
   ],
   "source": [
    "#On récupère l'ensemble des valeurs unique des produits\n",
    "u_products = df_grouped_customer_purchase['Item Purchased'].str.split(', ', expand = True).stack().unique()\n",
    "\n",
    "#On créer un dictionnaire qui représente la table d'achats des produits\n",
    "data = {}\n",
    "\n",
    "#On modifie la valeur stocké si le client a acheté ce produit\n",
    "for i, row in df_grouped_customer_purchase.iterrows():\n",
    "    items = row['Item Purchased'].split(', ')\n",
    "    for item in items:\n",
    "        if item not in data:\n",
    "            data[item] = [0] * len(df_grouped_customer_purchase)\n",
    "        data[item][i] += 1\n",
    "df_product_table = pd.DataFrame(data)\n",
    "\n",
    "\n",
    "print(df_product_table)\n",
    "df_product_table.to_csv('./csv/product_table.csv', sep=';', index=False)\n"
   ],
   "metadata": {
    "collapsed": false,
    "ExecuteTime": {
     "end_time": "2024-02-21T11:14:43.571766700Z",
     "start_time": "2024-02-21T11:14:43.368813Z"
    }
   },
   "id": "11a686d543500ea4",
   "execution_count": 30
  },
  {
   "cell_type": "markdown",
   "source": [
    "## Encodage des données"
   ],
   "metadata": {
    "collapsed": false
   },
   "id": "4d76f647bb3ed3f9"
  },
  {
   "cell_type": "code",
   "outputs": [
    {
     "name": "stdout",
     "output_type": "stream",
     "text": [
      "[[18 0 1 0 6]\n",
      " [18 0 12 0 3]\n",
      " [18 0 15 0 0]\n",
      " ...\n",
      " [70 1 44 0 4]\n",
      " [70 1 44 1 0]\n",
      " [70 1 46 1 1]]\n"
     ]
    }
   ],
   "source": [
    "#Indexe des colonnes catégorielles (Gender,Location, Subscription Status, Frequency of Purchases)\n",
    "cols_cat_info = [1,2,3,4]\n",
    "\n",
    "#On créer une copie de notre dataframe source\n",
    "df_grouped_customer = df_grouped_customer_purchase.copy()\n",
    "\n",
    "#On supprime la colonne des achats\n",
    "df_grouped_customer = df_grouped_customer.drop(columns=['Item Purchased'])\n",
    "a_grouped_customer = df_grouped_customer.values\n",
    "#Encodage des colonnes catégorielles\n",
    "label_encoders_info = [LabelEncoder() for _ in range(len(cols_cat_info))]\n",
    "for i, col_idx in enumerate(cols_cat_info):\n",
    "    a_grouped_customer[:, col_idx] = label_encoders_info[i].fit_transform(a_grouped_customer[:, col_idx])\n",
    "    \n",
    "with open('./pickles/label_encoders_info.pkl', 'wb') as f:\n",
    "    pk.dump(label_encoders_info, f)\n",
    "#Print des données encodées\n",
    "print(a_grouped_customer)\n"
   ],
   "metadata": {
    "collapsed": false,
    "ExecuteTime": {
     "end_time": "2024-02-21T11:14:43.580136700Z",
     "start_time": "2024-02-21T11:14:43.567767900Z"
    }
   },
   "id": "4b9d21ccd62a4247",
   "execution_count": 31
  },
  {
   "cell_type": "markdown",
   "source": [
    "## Initialisation du modèle"
   ],
   "metadata": {
    "collapsed": false
   },
   "id": "e87a275aa1f18caa"
  },
  {
   "cell_type": "code",
   "outputs": [
    {
     "name": "stdout",
     "output_type": "stream",
     "text": [
      "MSE :  0.006184065084022406\n",
      "[0.71 0.12 0.02 0.01 0.   0.06 0.02 0.01 0.   0.04 0.01 0.04 0.02 0.\n",
      " 0.02 0.03 0.   0.   0.01 0.02 0.03 0.07 0.   0.01 0.04]\n"
     ]
    }
   ],
   "source": [
    "from sklearn.multioutput import RegressorChain\n",
    "from sklearn.ensemble import RandomForestRegressor\n",
    "from sklearn.metrics import mean_squared_error\n",
    "\n",
    "a_product_table = df_product_table.values\n",
    "#Initialisation du modèle\n",
    "chained_model = RegressorChain(RandomForestRegressor(n_estimators=100, random_state=1), random_state=1)\n",
    "chained_model.fit(a_grouped_customer, a_product_table)\n",
    "\n",
    "y_pred = chained_model.predict(a_grouped_customer)\n",
    "print(\"MSE : \",mean_squared_error(a_product_table, y_pred))\n",
    "print(y_pred[0])"
   ],
   "metadata": {
    "collapsed": false,
    "ExecuteTime": {
     "end_time": "2024-02-21T11:14:55.393117900Z",
     "start_time": "2024-02-21T11:14:43.582135100Z"
    }
   },
   "id": "37edc55ae502642e",
   "execution_count": 32
  },
  {
   "cell_type": "code",
   "outputs": [
    {
     "name": "stdout",
     "output_type": "stream",
     "text": [
      "Index(['Age', 'Gender', 'Location', 'Subscription Status',\n",
      "       'Frequency of Purchases'],\n",
      "      dtype='object')\n",
      "Liste des variables selon leur importance dans l'ordre décroissant\n",
      "Location\n",
      "Age\n",
      "Frequency of Purchases\n",
      "Gender\n",
      "Subscription Status\n"
     ]
    },
    {
     "data": {
      "text/plain": "<Figure size 640x480 with 1 Axes>",
      "image/png": "[encoded data removed]"
     },
     "metadata": {},
     "output_type": "display_data"
    },
    {
     "data": {
      "text/plain": "<Figure size 640x480 with 1 Axes>",
      "image/png": "[encoded data removed]"
     },
     "metadata": {},
     "output_type": "display_data"
    }
   ],
   "source": [
    "from sklearn.model_selection import train_test_split\n",
    "from sklearn.neural_network import MLPRegressor\n",
    "from sklearn.metrics import mean_squared_error\n",
    "import matplotlib.pyplot as plt\n",
    "import numpy as np\n",
    "\n",
    "# Diviser les données en ensembles d'apprentissage et de test\n",
    "x_train, x_test, y_train, y_test = train_test_split(a_grouped_customer, a_product_table, test_size=0.5, random_state=1)\n",
    "\n",
    "\n",
    "\n",
    "# Entraîner un modèle RandomForestRegressor pour l'importance des caractéristiques\n",
    "rf_regressor = RandomForestRegressor(n_estimators=100)\n",
    "rf_regressor.fit(x_train, y_train)\n",
    "importances = rf_regressor.feature_importances_\n",
    "\n",
    "\n",
    "sorted_idx = np.argsort(importances)[::-1]\n",
    "features = df_grouped_customer.columns\n",
    "\n",
    "print(features)\n",
    "# Afficher l'importance des variables\n",
    "print(\"Liste des variables selon leur importance dans l'ordre décroissant\")\n",
    "for i in sorted_idx:\n",
    "    print(features[i])\n",
    "\n",
    "# Représentation graphique de l'importance des variables\n",
    "padding = np.arange(x_train.size/x_train.shape[0]) + 0.5 \n",
    "plt.barh(padding, importances[sorted_idx], align='center') \n",
    "plt.yticks(padding, features[sorted_idx]) \n",
    "plt.xlabel(\"Importance relative\")\n",
    "plt.title(\"Représentation graphique de l'importance des variables\") \n",
    "plt.show()\n",
    "\n",
    "# Entraîner un modèle MLPRegressor\n",
    "mlp_regressor = chained_model = RegressorChain(RandomForestRegressor(n_estimators=100, random_state=1), random_state=1)\n",
    "scores = np.zeros(x_train.shape[1] + 1)\n",
    "\n",
    "# Evaluer l'accuracy en fonction du nombre de variables\n",
    "for f in np.arange(0, x_train.shape[1] + 1):\n",
    "    X1_f = x_train[:, sorted_idx[:f+1]]\n",
    "    X2_f = x_test[:, sorted_idx[:f+1]]\n",
    "    mlp_regressor.fit(X1_f, y_train)\n",
    "    Y_pred = mlp_regressor.predict(X2_f)\n",
    "    scores[f] = mean_squared_error(y_test, Y_pred)\n",
    "\n",
    "# Afficher l'évolution de l'accuracy en fonction du nombre de variables\n",
    "plt.plot(scores)\n",
    "plt.xlabel(\"Nombre de variables\")\n",
    "plt.ylabel(\"Mean Squared Error\")\n",
    "plt.title(\"Evolution de l'erreur quadratique moyenne en fonction du nombre de variables\")\n",
    "plt.show()\n"
   ],
   "metadata": {
    "collapsed": false,
    "ExecuteTime": {
     "end_time": "2024-02-21T11:15:29.919629700Z",
     "start_time": "2024-02-21T11:14:55.395628600Z"
    }
   },
   "id": "de8e5237b623ab7d",
   "execution_count": 33
  },
  {
   "cell_type": "code",
   "outputs": [],
   "source": [
    "from sklearn.metrics import mean_squared_error\n",
    "from sklearn.model_selection import cross_validate, KFold\n",
    "import numpy as np\n",
    "import time\n",
    "\n",
    "def run_regressor_chain_estimators(estimators, X, y):\n",
    "    \"\"\"\n",
    "    Teste différents base estimators avec une RegressorChain et retourne les scores.\n",
    "\n",
    "    Args:\n",
    "    - estimators: Dictionnaire contenant les noms et les base estimators à tester.\n",
    "    - X: Tableau NumPy des caractéristiques des clients.\n",
    "    - y: Tableau NumPy des cibles (achats de produits).\n",
    "\n",
    "    Returns:\n",
    "    - best_estimator: Meilleur base estimator obtenu avec le score correspondant.\n",
    "    \"\"\"\n",
    "\n",
    "    all_scores = []\n",
    "\n",
    "    for clf_name, clf in estimators.items():\n",
    "        start = time.time()\n",
    "\n",
    "        # Créez le modèle RegressorChain avec le base_estimator actuel et spécifiez le nombre de folds\n",
    "        chain = RegressorChain(base_estimator=clf, cv=10, random_state=1)\n",
    "        chain.fit(X, y)\n",
    "        predit = chain.predict(X)\n",
    "        print(\"MSE for classifier \", clf_name , \" is : \",mean_squared_error(y, predit))\n",
    "        # Effectuez la validation croisée\n",
    "        \n",
    "\n",
    "        end = time.time()\n",
    "\n",
    "        # Stockez les résultats dans all_scores\n",
    "        all_scores.append([clf, mean_squared_error(y,predit), end- start])\n",
    "        \n",
    "        # Affichez les résultats pour le modèle actuel\n",
    "        print(f\"Base estimator: {clf_name}\")\n",
    "        print(f\"Mean fit time:\", end- start, \" seconds\")\n",
    "        print(\"\\n\")\n",
    "\n",
    "\n",
    "    # Trouvez le meilleur base estimator en fonction du score moyen\n",
    "    all_scores.sort(key=lambda x: x[1], reverse=False)\n",
    "    best_estimator = all_scores[0][0]\n",
    "    best_score = all_scores[0][1]\n",
    "    best_fit_time = all_scores[0][2]\n",
    "\n",
    "    print(\"Best base estimator is:\", best_estimator)\n",
    "    print(\"with a mean MSE of =\", best_score)\n",
    "    print(\"and a mean fit time of =\", best_fit_time, \"seconds\")\n",
    "\n",
    "    return best_estimator"
   ],
   "metadata": {
    "collapsed": false,
    "ExecuteTime": {
     "end_time": "2024-02-21T11:15:29.926665300Z",
     "start_time": "2024-02-21T11:15:29.917808900Z"
    }
   },
   "id": "7e4b1ab5966676de",
   "execution_count": 34
  },
  {
   "cell_type": "code",
   "outputs": [
    {
     "name": "stdout",
     "output_type": "stream",
     "text": [
      "MSE for classifier  RandomForestRegressor  is :  0.040032194646257714\n",
      "Base estimator: RandomForestRegressor\n",
      "Mean fit time: 378.2964732646942  seconds\n",
      "\n",
      "MSE for classifier  LinearRegression  is :  0.04010794206276562\n",
      "Base estimator: LinearRegression\n",
      "Mean fit time: 0.5518546104431152  seconds\n",
      "\n",
      "MSE for classifier  Ridge  is :  0.0400301233983248\n",
      "Base estimator: Ridge\n",
      "Mean fit time: 0.3563418388366699  seconds\n",
      "\n",
      "MSE for classifier  ElasticNet  is :  0.04008437423803812\n",
      "Base estimator: ElasticNet\n",
      "Mean fit time: 0.40692663192749023  seconds\n",
      "\n",
      "MSE for classifier  SVR  is :  0.043493885404393896\n",
      "Base estimator: SVR\n",
      "Mean fit time: 26.87239933013916  seconds\n",
      "\n",
      "MSE for classifier  KNeighborsRegressor  is :  0.03217071218991732\n",
      "Base estimator: KNeighborsRegressor\n",
      "Mean fit time: 1.5868074893951416  seconds\n",
      "\n",
      "MSE for classifier  DecisionTreeRegressor  is :  0.04134435849559883\n",
      "Base estimator: DecisionTreeRegressor\n",
      "Mean fit time: 1.7298524379730225  seconds\n",
      "\n",
      "MSE for classifier  XGBRegressor  is :  0.04478670432182428\n",
      "Base estimator: XGBRegressor\n",
      "Mean fit time: 37.825324058532715  seconds\n",
      "\n",
      "MSE for classifier  GradientBoostingRegressor  is :  0.041061791160651\n",
      "Base estimator: GradientBoostingRegressor\n",
      "Mean fit time: 343.31117033958435  seconds\n",
      "\n",
      "\n",
      "Best base estimator is: KNeighborsRegressor()\n",
      "with a mean MSE of = 0.03217071218991732\n",
      "and a mean fit time of = 1.5868074893951416 seconds\n"
     ]
    }
   ],
   "source": [
    "from sklearn.linear_model import LinearRegression, Ridge, Lasso, ElasticNet\n",
    "from sklearn.svm import SVR\n",
    "from sklearn.neighbors import KNeighborsRegressor\n",
    "from sklearn.tree import DecisionTreeRegressor\n",
    "from sklearn.ensemble import RandomForestRegressor, GradientBoostingRegressor\n",
    "from xgboost import XGBRegressor\n",
    "\n",
    "# Liste des base estimators à tester\n",
    "base_estimators = {\n",
    "    'RandomForestRegressor': RandomForestRegressor(n_estimators=100,random_state=1, max_depth=5),\n",
    "    'LinearRegression': LinearRegression(),\n",
    "    'Ridge': Ridge(),\n",
    "    'ElasticNet': ElasticNet(random_state=1),\n",
    "    'SVR': SVR(),\n",
    "    'KNeighborsRegressor': KNeighborsRegressor(n_neighbors=5),\n",
    "    'DecisionTreeRegressor': DecisionTreeRegressor(random_state=1),\n",
    "    'XGBRegressor': XGBRegressor(n_estimators=100,random_state=1),\n",
    "    'GradientBoostingRegressor': GradientBoostingRegressor(n_estimators=100,random_state=1),\n",
    "}\n",
    "\n",
    "# Utilisez la fonction run_regressor_chain_estimators avec la liste de base estimators\n",
    "best_estimator = run_regressor_chain_estimators(base_estimators, a_grouped_customer, a_product_table)\n"
   ],
   "metadata": {
    "collapsed": false,
    "ExecuteTime": {
     "end_time": "2024-02-21T11:28:40.877161100Z",
     "start_time": "2024-02-21T11:15:29.924148500Z"
    }
   },
   "id": "e7957aad3c87dbae",
   "execution_count": 35
  },
  {
   "cell_type": "markdown",
   "source": [
    "Lasso"
   ],
   "metadata": {
    "collapsed": false
   },
   "id": "d92ae8c26b5f955c"
  },
  {
   "cell_type": "code",
   "outputs": [
    {
     "name": "stdout",
     "output_type": "stream",
     "text": [
      "Meilleurs paramètres: {'base_estimator__algorithm': 'brute', 'base_estimator__leaf_size': 10, 'base_estimator__n_neighbors': 5, 'base_estimator__weights': 'uniform'}\n",
      "Meilleur score (neg_mean_squared_error): -0.04881690195496156\n",
      "Mean Squared Error sur l'ensemble de test: 0.04856959999999999\n"
     ]
    }
   ],
   "source": [
    "from sklearn.model_selection import GridSearchCV\n",
    "\n",
    "X_train, X_test, y_train, y_test = train_test_split(a_grouped_customer,a_product_table, test_size=0.4, random_state=1)  # random_state=1 ici\n",
    "\n",
    "# Créer le modèle RegressorChain avec KNeighborsRegressor comme base estimator\n",
    "base_estimator = KNeighborsRegressor()\n",
    "chain_model = RegressorChain(base_estimator, random_state=1)\n",
    "\n",
    "# Définir les hyperparamètres à optimiser\n",
    "param_grid = {\n",
    "    'base_estimator__n_neighbors': [3, 4, 5],\n",
    "    'base_estimator__weights': ['uniform', 'distance'],\n",
    "    'base_estimator__algorithm': ['auto', 'ball_tree', 'kd_tree', 'brute'],\n",
    "    'base_estimator__leaf_size': [10, 20, 30]\n",
    "}\n",
    "\n",
    "# Initialiser la GridSearchCV avec random_state=1\n",
    "grid_search = GridSearchCV(chain_model, param_grid, cv=5, scoring='neg_mean_squared_error', n_jobs=-1)\n",
    "\n",
    "# Effectuer la recherche sur grille\n",
    "grid_search.fit(X_train, y_train)\n",
    "\n",
    "# Afficher les meilleurs paramètres et le score\n",
    "print(\"Meilleurs paramètres:\", grid_search.best_params_)\n",
    "print(\"Meilleur score (neg_mean_squared_error):\", grid_search.best_score_)\n",
    "\n",
    "# Évaluer le modèle sur l'ensemble de test\n",
    "y_pred = grid_search.predict(X_test)\n",
    "mse = mean_squared_error(y_test, y_pred)\n",
    "print(\"Mean Squared Error sur l'ensemble de test:\", mse)\n"
   ],
   "metadata": {
    "collapsed": false,
    "ExecuteTime": {
     "end_time": "2024-02-21T11:58:48.199369700Z",
     "start_time": "2024-02-21T11:58:41.740736100Z"
    }
   },
   "id": "4d686fa1a0241252",
   "execution_count": 48
  },
  {
   "cell_type": "markdown",
   "source": [
    "## Création de la pipeline finale mise en place d'un pickle"
   ],
   "metadata": {
    "collapsed": false
   },
   "id": "c579db3f98664340"
  },
  {
   "cell_type": "code",
   "outputs": [
    {
     "name": "stdout",
     "output_type": "stream",
     "text": [
      "[[0.4 0.2 0.  0.  0.  0.  0.  0.  0.  0.  0.  0.2 0.  0.  0.  0.  0.  0.\n",
      "  0.  0.  0.  0.2 0.  0.  0. ]]\n",
      "MSE :  0.03224746666666658\n",
      "[[0.4 0.2 0.  0.  0.  0.  0.  0.  0.  0.  0.  0.2 0.  0.  0.  0.  0.  0.\n",
      "  0.  0.  0.  0.2 0.  0.  0. ]]\n"
     ]
    }
   ],
   "source": [
    "from sklearn.pipeline import Pipeline\n",
    "import pickle as pk\n",
    "from sklearn.model_selection import train_test_split\n",
    "pipeline = Pipeline([\n",
    "    ('chain', RegressorChain(base_estimator=KNeighborsRegressor(algorithm='kd_tree', leaf_size=10,n_neighbors=5, weights='uniform'), cv=10, random_state=1))\n",
    "])\n",
    "\n",
    "x_train, x_test, y_train, y_test = train_test_split(a_grouped_customer, a_product_table, test_size=0.5, random_state=1)\n",
    "\n",
    "pipeline.fit(a_grouped_customer,a_product_table)\n",
    "prediction = pipeline.predict(x_test)\n",
    "y_new_pred = pipeline.predict([a_grouped_customer[0]])\n",
    "print(pipeline.predict([a_grouped_customer[0]]))\n",
    "print(\"MSE : \",mean_squared_error(y_test, prediction))\n",
    "\n",
    "print(pipeline.predict([[18, 0, 1, 0, 6]]))\n"
   ],
   "metadata": {
    "collapsed": false,
    "ExecuteTime": {
     "end_time": "2024-02-21T11:58:57.507415600Z",
     "start_time": "2024-02-21T11:58:54.152638200Z"
    }
   },
   "id": "7857c018993caf03",
   "execution_count": 49
  },
  {
   "cell_type": "code",
   "outputs": [],
   "source": [
    "dMSE :  0.040212798399542574\n",
    "mse xgboost : 0.033"
   ],
   "metadata": {
    "collapsed": false,
    "ExecuteTime": {
     "start_time": "2024-02-21T11:28:41.027539200Z"
    }
   },
   "id": "d3ecd7aa8b2f773d",
   "execution_count": null
  },
  {
   "cell_type": "code",
   "outputs": [
    {
     "name": "stdout",
     "output_type": "stream",
     "text": [
      "['Blouse', 'Sweater', 'Backpack']\n"
     ]
    }
   ],
   "source": [
    "df_customer = pd.read_csv('./csv/shopping_behavior_updated.csv', sep=\";\")\n",
    "\n",
    "#On récupère l'ensemble des valeurs unique des produits\n",
    "u_products = df_customer['Item Purchased'].str.split(', ', expand = True).stack().unique()\n",
    "\n",
    "def predictedProduct(uniqueProduct, y_new_pred):\n",
    "    products = y_new_pred[0]\n",
    "    idProductRecommand = np.argsort((-products))\n",
    "    list = [uniqueProduct[i] for i in idProductRecommand[:3]]\n",
    "    return list\n",
    "\n",
    "print(predictedProduct(u_products, y_new_pred))"
   ],
   "metadata": {
    "collapsed": false,
    "ExecuteTime": {
     "end_time": "2024-02-21T11:39:38.450682100Z",
     "start_time": "2024-02-21T11:39:38.425388800Z"
    }
   },
   "id": "57f8f5d8d0c5b38a",
   "execution_count": 40
  },
  {
   "cell_type": "code",
   "outputs": [],
   "source": [],
   "metadata": {
    "collapsed": false,
    "ExecuteTime": {
     "start_time": "2024-02-21T11:28:41.030535700Z"
    }
   },
   "id": "78b83ee1ed04a904"
  }
 ],
 "metadata": {
  "kernelspec": {
   "display_name": "Python 3",
   "language": "python",
   "name": "python3"
  },
  "language_info": {
   "codemirror_mode": {
    "name": "ipython",
    "version": 2
   },
   "file_extension": ".py",
   "mimetype": "text/x-python",
   "name": "python",
   "nbconvert_exporter": "python",
   "pygments_lexer": "ipython2",
   "version": "2.7.6"
  }
 },
 "nbformat": 4,
 "nbformat_minor": 5
}
