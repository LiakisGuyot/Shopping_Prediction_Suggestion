{
 "cells": [
  {
   "cell_type": "markdown",
   "source": [
    "## Importation des librairies et transformation des données"
   ],
   "metadata": {
    "collapsed": false
   },
   "id": "940da05dd915cfd3"
  },
  {
   "cell_type": "code",
   "outputs": [
    {
     "name": "stdout",
     "output_type": "stream",
     "text": [
      "Aggregated product\n",
      "      Age  Gender    Location Subscription Status Frequency of Purchases  \\\n",
      "0      18  Female      Alaska                  No                 Weekly   \n",
      "1      18  Female    Illinois                  No            Fortnightly   \n",
      "2      18  Female      Kansas                  No               Annually   \n",
      "3      18  Female    Kentucky                  No            Fortnightly   \n",
      "4      18  Female    Maryland                  No               Annually   \n",
      "...   ...     ...         ...                 ...                    ...   \n",
      "3744   70    Male       Texas                  No         Every 3 Months   \n",
      "3745   70    Male       Texas                 Yes                Monthly   \n",
      "3746   70    Male     Vermont                  No                Monthly   \n",
      "3747   70    Male     Vermont                 Yes               Annually   \n",
      "3748   70    Male  Washington                 Yes              Bi-Weekly   \n",
      "\n",
      "      Item Purchased  \n",
      "0             Shorts  \n",
      "1              Shirt  \n",
      "2              Socks  \n",
      "3               Coat  \n",
      "4              Dress  \n",
      "...              ...  \n",
      "3744          Gloves  \n",
      "3745           Shoes  \n",
      "3746  Jewelry, Jeans  \n",
      "3747           Pants  \n",
      "3748        Sneakers  \n",
      "\n",
      "[3749 rows x 6 columns]\n",
      "valeurs unique de produite 158\n"
     ]
    }
   ],
   "source": [
    "import pandas as pd\n",
    "import numpy as np\n",
    "from sklearn.preprocessing import OneHotEncoder, LabelEncoder\n",
    "#Chargement du dataframe\n",
    "df_customer = pd.read_csv('shopping_test.csv', sep=\";\")\n",
    "\n",
    "#On regroupe notre dataframe en fonction des colonnes Age, Gender, Location, Subscription Status, Frequency of Purchases\n",
    "df_customer_info_grouped = df_customer.groupby(['Age','Gender', 'Location', 'Subscription Status','Frequency of Purchases'])\n",
    "\n",
    "#On regroupe les produits achetés par les clients\n",
    "aggregated_product = df_customer_info_grouped['Item Purchased'].apply(lambda x: ', '.join(x)).reset_index()\n",
    "\n",
    "#On créer notre dataframe correspondant au regroupement des produits achetés par les clients\n",
    "df_grouped_customer_purchase = pd.DataFrame(aggregated_product)\n",
    "\n",
    "print(\"Aggregated product\")\n",
    "print(df_grouped_customer_purchase)\n",
    "print(\"valeurs unique de produite\", df_grouped_customer_purchase['Item Purchased'].nunique())\n",
    "df_grouped_customer_purchase.to_csv('grouped_customer_purchase.csv', sep=';', index=False)"
   ],
   "metadata": {
    "collapsed": false,
    "ExecuteTime": {
     "end_time": "2024-02-16T23:53:02.510149900Z",
     "start_time": "2024-02-16T23:53:02.427955Z"
    }
   },
   "id": "3397b8b9ece1ecd0",
   "execution_count": 12
  },
  {
   "cell_type": "markdown",
   "source": [
    "## Création de la table des produits"
   ],
   "metadata": {
    "collapsed": false
   },
   "id": "b858287d3c85f102"
  },
  {
   "cell_type": "code",
   "outputs": [
    {
     "name": "stdout",
     "output_type": "stream",
     "text": [
      "      Shorts  Shirt  Socks  Coat  Dress  Boots  Handbag  Sunglasses  Hat  \\\n",
      "0          1      0      0     0      0      0        0           0    0   \n",
      "1          0      1      0     0      0      0        0           0    0   \n",
      "2          0      0      1     0      0      0        0           0    0   \n",
      "3          0      0      0     1      0      0        0           0    0   \n",
      "4          0      0      0     0      1      0        0           0    0   \n",
      "...      ...    ...    ...   ...    ...    ...      ...         ...  ...   \n",
      "3744       0      0      0     0      0      0        0           0    0   \n",
      "3745       0      0      0     0      0      0        0           0    0   \n",
      "3746       0      0      0     0      0      0        0           0    0   \n",
      "3747       0      0      0     0      0      0        0           0    0   \n",
      "3748       0      0      0     0      0      0        0           0    0   \n",
      "\n",
      "      Belt  ...  Sneakers  Sweater  Pants  T-shirt  Jewelry  Skirt  Blouse  \\\n",
      "0        0  ...         0        0      0        0        0      0       0   \n",
      "1        0  ...         0        0      0        0        0      0       0   \n",
      "2        0  ...         0        0      0        0        0      0       0   \n",
      "3        0  ...         0        0      0        0        0      0       0   \n",
      "4        0  ...         0        0      0        0        0      0       0   \n",
      "...    ...  ...       ...      ...    ...      ...      ...    ...     ...   \n",
      "3744     0  ...         0        0      0        0        0      0       0   \n",
      "3745     0  ...         0        0      0        0        0      0       0   \n",
      "3746     0  ...         0        0      0        0        1      0       0   \n",
      "3747     0  ...         0        0      1        0        0      0       0   \n",
      "3748     0  ...         1        0      0        0        0      0       0   \n",
      "\n",
      "      Sandals  Hoodie  Shoes  \n",
      "0           0       0      0  \n",
      "1           0       0      0  \n",
      "2           0       0      0  \n",
      "3           0       0      0  \n",
      "4           0       0      0  \n",
      "...       ...     ...    ...  \n",
      "3744        0       0      0  \n",
      "3745        0       0      1  \n",
      "3746        0       0      0  \n",
      "3747        0       0      0  \n",
      "3748        0       0      0  \n",
      "\n",
      "[3749 rows x 25 columns]\n"
     ]
    }
   ],
   "source": [
    "#On récupère l'ensemble des valeurs unique des produits\n",
    "u_products = df_grouped_customer_purchase['Item Purchased'].str.split(', ', expand = True).stack().unique()\n",
    "\n",
    "#On créer un dictionnaire qui représente la table d'achats des produits\n",
    "data = {}\n",
    "\n",
    "#On modifie la valeur stocké si le client a acheté ce produit\n",
    "for i, row in df_grouped_customer_purchase.iterrows():\n",
    "    items = row['Item Purchased'].split(', ')\n",
    "    for item in items:\n",
    "        if item not in data:\n",
    "            data[item] = [0] * len(df_grouped_customer_purchase)\n",
    "        data[item][i] += 1\n",
    "df_product_table = pd.DataFrame(data)\n",
    "\n",
    "\n",
    "print(df_product_table)\n",
    "df_product_table.to_csv('product_table.csv', sep=';', index=False)\n"
   ],
   "metadata": {
    "collapsed": false,
    "ExecuteTime": {
     "end_time": "2024-02-16T23:53:02.709602300Z",
     "start_time": "2024-02-16T23:53:02.511659100Z"
    }
   },
   "id": "11a686d543500ea4",
   "execution_count": 13
  },
  {
   "cell_type": "markdown",
   "source": [
    "## Encodage des données"
   ],
   "metadata": {
    "collapsed": false
   },
   "id": "4d76f647bb3ed3f9"
  },
  {
   "cell_type": "code",
   "outputs": [
    {
     "name": "stdout",
     "output_type": "stream",
     "text": [
      "[[18 0 1 0 6]\n",
      " [18 0 12 0 3]\n",
      " [18 0 15 0 0]\n",
      " ...\n",
      " [70 1 44 0 4]\n",
      " [70 1 44 1 0]\n",
      " [70 1 46 1 1]]\n"
     ]
    }
   ],
   "source": [
    "#Indexe des colonnes catégorielles (Gender,Location, Subscription Status, Frequency of Purchases)\n",
    "cols_cat_info = [1,2,3,4]\n",
    "\n",
    "#On créer une copie de notre dataframe source\n",
    "df_grouped_customer = df_grouped_customer_purchase.copy()\n",
    "\n",
    "#On supprime la colonne des achats\n",
    "df_grouped_customer = df_grouped_customer.drop(columns=['Item Purchased'])\n",
    "a_grouped_customer = df_grouped_customer.values\n",
    "#Encodage des colonnes catégorielles\n",
    "label_encoders_info = [LabelEncoder() for _ in range(len(cols_cat_info))]\n",
    "for i, col_idx in enumerate(cols_cat_info):\n",
    "    a_grouped_customer[:, col_idx] = label_encoders_info[i].fit_transform(a_grouped_customer[:, col_idx])\n",
    "    \n",
    "#Print des données encodées\n",
    "print(a_grouped_customer)\n"
   ],
   "metadata": {
    "collapsed": false,
    "ExecuteTime": {
     "end_time": "2024-02-16T23:53:02.744263700Z",
     "start_time": "2024-02-16T23:53:02.705092500Z"
    }
   },
   "id": "4b9d21ccd62a4247",
   "execution_count": 14
  },
  {
   "cell_type": "markdown",
   "source": [
    "## Initialisation du modèle"
   ],
   "metadata": {
    "collapsed": false
   },
   "id": "e87a275aa1f18caa"
  },
  {
   "cell_type": "code",
   "outputs": [
    {
     "name": "stdout",
     "output_type": "stream",
     "text": [
      "MSE :  0.006184065084022406\n",
      "[0.71 0.12 0.02 0.01 0.   0.06 0.02 0.01 0.   0.04 0.01 0.04 0.02 0.\n",
      " 0.02 0.03 0.   0.   0.01 0.02 0.03 0.07 0.   0.01 0.04]\n"
     ]
    }
   ],
   "source": [
    "from sklearn.multioutput import RegressorChain\n",
    "from sklearn.ensemble import RandomForestRegressor\n",
    "from sklearn.metrics import mean_squared_error\n",
    "\n",
    "a_product_table = df_product_table.values\n",
    "#Initialisation du modèle\n",
    "chained_model = RegressorChain(RandomForestRegressor(n_estimators=100, random_state=1), random_state=1)\n",
    "chained_model.fit(a_grouped_customer, a_product_table)\n",
    "\n",
    "y_pred = chained_model.predict(a_grouped_customer)\n",
    "print(\"MSE : \",mean_squared_error(a_product_table, y_pred))\n",
    "print(y_pred[0])"
   ],
   "metadata": {
    "collapsed": false,
    "ExecuteTime": {
     "end_time": "2024-02-16T23:53:15.942510300Z",
     "start_time": "2024-02-16T23:53:02.713126800Z"
    }
   },
   "id": "37edc55ae502642e",
   "execution_count": 15
  },
  {
   "cell_type": "code",
   "outputs": [],
   "source": [
    "from sklearn.metrics import mean_squared_error\n",
    "from sklearn.model_selection import cross_validate, KFold\n",
    "import numpy as np\n",
    "import time\n",
    "\n",
    "def run_regressor_chain_estimators(estimators, X, y):\n",
    "    \"\"\"\n",
    "    Teste différents base estimators avec une RegressorChain et retourne les scores.\n",
    "\n",
    "    Args:\n",
    "    - estimators: Dictionnaire contenant les noms et les base estimators à tester.\n",
    "    - X: Tableau NumPy des caractéristiques des clients.\n",
    "    - y: Tableau NumPy des cibles (achats de produits).\n",
    "\n",
    "    Returns:\n",
    "    - best_estimator: Meilleur base estimator obtenu avec le score correspondant.\n",
    "    \"\"\"\n",
    "\n",
    "    all_scores = []\n",
    "\n",
    "    kf = KFold(n_splits=10, shuffle=True, random_state=0)\n",
    "    for clf_name, clf in estimators.items():\n",
    "        start = time.time()\n",
    "\n",
    "        # Créez le modèle RegressorChain avec le base_estimator actuel et spécifiez le nombre de folds\n",
    "        chain = RegressorChain(base_estimator=clf, cv=2, random_state=1)\n",
    "\n",
    "        # Effectuez la validation croisée\n",
    "        cv_results = cross_validate(chain, X, y, scoring='neg_mean_squared_error', return_train_score=False, cv=kf, n_jobs=-1)\n",
    "\n",
    "        end = time.time()\n",
    "\n",
    "        # Stockez les résultats dans all_scores\n",
    "        all_scores.append([clf, np.mean(cv_results['test_score']), np.mean(cv_results['fit_time'])])\n",
    "        \n",
    "        # Affichez les résultats pour le modèle actuel\n",
    "        print(f\"Base estimator: {clf_name}\")\n",
    "        print(f\"Mean MSE : {np.mean(cv_results['test_score']):.3f}\")\n",
    "        print(f\"Mean fit time: {np.mean(cv_results['fit_time']):.3f} seconds\")\n",
    "        print(\"\\n\")\n",
    "        print(cv_results)\n",
    "\n",
    "    # Trouvez le meilleur base estimator en fonction du score moyen\n",
    "    all_scores.sort(key=lambda x: x[1])\n",
    "    best_estimator = all_scores[0][0]\n",
    "    best_score = all_scores[0][1]\n",
    "    best_fit_time = all_scores[0][2]\n",
    "\n",
    "    print(\"Best base estimator is:\", best_estimator)\n",
    "    print(\"with a mean MSE of =\", best_score)\n",
    "    print(\"and a mean fit time of =\", best_fit_time, \"seconds\")\n",
    "\n",
    "    return best_estimator"
   ],
   "metadata": {
    "collapsed": false,
    "ExecuteTime": {
     "end_time": "2024-02-16T23:53:15.949534800Z",
     "start_time": "2024-02-16T23:53:15.941297600Z"
    }
   },
   "id": "7e4b1ab5966676de",
   "execution_count": 16
  },
  {
   "cell_type": "code",
   "outputs": [
    {
     "name": "stdout",
     "output_type": "stream",
     "text": [
      "Base estimator: RandomForestRegressor\n",
      "Mean MSE : -0.045\n",
      "Mean fit time: 68.626 seconds\n",
      "\n",
      "\n",
      "{'fit_time': array([68.98167968, 70.88837028, 70.16626048, 69.75191045, 70.09209394,\n",
      "       60.27919364, 67.33546567, 69.82360458, 70.6873889 , 68.25504947]), 'score_time': array([0.11045456, 0.09199047, 0.08787465, 0.08673143, 0.10840678,\n",
      "       0.14047551, 0.11700511, 0.11693692, 0.08990097, 0.10677767]), 'test_score': array([-0.04074342, -0.04395035, -0.04158868, -0.04482652, -0.04122477,\n",
      "       -0.05303707, -0.04254785, -0.05326962, -0.04119432, -0.04451518])}\n",
      "Base estimator: LinearRegression\n",
      "Mean MSE : -0.041\n",
      "Mean fit time: 0.130 seconds\n",
      "\n",
      "\n",
      "{'fit_time': array([0.08318233, 0.08338928, 0.14168119, 0.14617038, 0.14316416,\n",
      "       0.14065433, 0.13865662, 0.14526391, 0.14318633, 0.13355923]), 'score_time': array([0.00150585, 0.00251102, 0.0040071 , 0.00310016, 0.00460124,\n",
      "       0.00410247, 0.00410247, 0.00300217, 0.00300097, 0.00410581]), 'test_score': array([-0.04040399, -0.04078246, -0.04063861, -0.04045741, -0.04218827,\n",
      "       -0.04143297, -0.04316376, -0.04094668, -0.04011964, -0.03961054])}\n",
      "Base estimator: Ridge\n",
      "Mean MSE : -0.040\n",
      "Mean fit time: 0.129 seconds\n",
      "\n",
      "\n",
      "{'fit_time': array([0.13387346, 0.12731409, 0.12531924, 0.12784839, 0.13437247,\n",
      "       0.12885451, 0.13034987, 0.12833452, 0.12582898, 0.13135695]), 'score_time': array([0.00301147, 0.00353169, 0.00353003, 0.0040226 , 0.00300694,\n",
      "       0.00299573, 0.00251341, 0.00251341, 0.00351357, 0.0019989 ]), 'test_score': array([-0.0403178 , -0.04056265, -0.04056071, -0.04021089, -0.04029924,\n",
      "       -0.04075726, -0.03968204, -0.04011944, -0.04001169, -0.03955795])}\n",
      "Base estimator: Lasso\n",
      "Mean MSE : -0.040\n",
      "Mean fit time: 0.162 seconds\n",
      "\n",
      "\n",
      "{'fit_time': array([0.16573477, 0.16822743, 0.15777588, 0.16479135, 0.16027761,\n",
      "       0.15627885, 0.16227245, 0.16476989, 0.15775323, 0.15825939]), 'score_time': array([0.00400925, 0.00408912, 0.0035007 , 0.00300479, 0.00301051,\n",
      "       0.00300097, 0.00399637, 0.00200009, 0.00250387, 0.00249577]), 'test_score': array([-0.04024553, -0.04047456, -0.04038572, -0.04008262, -0.04023389,\n",
      "       -0.04062937, -0.03957681, -0.04005995, -0.0398953 , -0.0394967 ])}\n",
      "Base estimator: ElasticNet\n",
      "Mean MSE : -0.040\n",
      "Mean fit time: 0.161 seconds\n",
      "\n",
      "\n",
      "{'fit_time': array([0.15091968, 0.16397643, 0.16197467, 0.16898942, 0.16900277,\n",
      "       0.15645671, 0.16146302, 0.16145587, 0.15944767, 0.15243125]), 'score_time': array([0.00352836, 0.00250292, 0.00249815, 0.00351644, 0.00250149,\n",
      "       0.00399852, 0.0020082 , 0.00251794, 0.00451803, 0.00401545]), 'test_score': array([-0.04024553, -0.04047456, -0.04038572, -0.04008262, -0.04023389,\n",
      "       -0.04062937, -0.03957681, -0.04005995, -0.0398953 , -0.0394967 ])}\n",
      "Base estimator: SVR\n",
      "Mean MSE : -0.043\n",
      "Mean fit time: 5.622 seconds\n",
      "\n",
      "\n",
      "{'fit_time': array([5.43007874, 5.45018959, 5.3818562 , 6.89177775, 5.46831632,\n",
      "       5.52140307, 5.51685548, 5.52188611, 5.56350827, 5.47526979]), 'score_time': array([0.45775819, 0.45770097, 0.44475436, 0.60646343, 0.43707442,\n",
      "       0.44603491, 0.42102146, 0.43603706, 0.41643143, 0.43806887]), 'test_score': array([-0.04361267, -0.0437838 , -0.04374369, -0.04348432, -0.04365739,\n",
      "       -0.04399698, -0.04301837, -0.04344253, -0.04327219, -0.04293265])}\n",
      "Base estimator: KNeighborsRegressor\n",
      "Mean MSE : -0.048\n",
      "Mean fit time: 1.029 seconds\n",
      "\n",
      "\n",
      "{'fit_time': array([1.01119661, 1.02981663, 1.03382444, 1.04385829, 1.04536009,\n",
      "       1.03081203, 1.00371408, 1.03482985, 1.03230906, 1.0197823 ]), 'score_time': array([0.17029858, 0.17080021, 0.16528869, 0.16528916, 0.16779733,\n",
      "       0.17532539, 0.1652894 , 0.16578913, 0.1652925 , 0.17231655]), 'test_score': array([-0.0482432 , -0.04884907, -0.04850347, -0.04864853, -0.04849493,\n",
      "       -0.0483968 , -0.0471552 , -0.04736   , -0.04768427, -0.04829947])}\n",
      "Base estimator: DecisionTreeRegressor\n",
      "Mean MSE : -0.097\n",
      "Mean fit time: 0.427 seconds\n",
      "\n",
      "\n",
      "{'fit_time': array([0.4324553 , 0.42388248, 0.43096375, 0.42092729, 0.42746091,\n",
      "       0.41839457, 0.43094707, 0.43647361, 0.42143464, 0.42795181]), 'score_time': array([0.00451612, 0.00351644, 0.0050211 , 0.00552821, 0.00299907,\n",
      "       0.00552344, 0.00401235, 0.00349903, 0.00451279, 0.00352216]), 'test_score': array([-0.09461333, -0.09674667, -0.08746667, -0.09365333, -0.1024    ,\n",
      "       -0.09706667, -0.09930667, -0.10144   , -0.09952   , -0.10278075])}\n",
      "Base estimator: XGBRegressor\n",
      "Mean MSE : -0.053\n",
      "Mean fit time: 27.586 seconds\n",
      "\n",
      "\n",
      "{'fit_time': array([28.02069426, 27.97348523, 27.76517344, 27.47702932, 27.33830309,\n",
      "       26.37456203, 27.80132413, 27.55886483, 27.9332509 , 27.61797214]), 'score_time': array([0.0325675 , 0.03969765, 0.04068685, 0.04415631, 0.04923463,\n",
      "       0.0563066 , 0.03565502, 0.04111958, 0.03365779, 0.04738522]), 'test_score': array([-0.05230114, -0.05006667, -0.05068121, -0.04928528, -0.05219887,\n",
      "       -0.06599833, -0.05213622, -0.05252854, -0.0514461 , -0.05173052])}\n",
      "Base estimator: GradientBoostingRegressor\n",
      "Mean MSE : -0.041\n",
      "Mean fit time: 56.230 seconds\n",
      "\n",
      "\n",
      "{'fit_time': array([57.64123988, 56.10356784, 57.17659378, 56.00078678, 56.67690754,\n",
      "       52.54913998, 56.68743682, 56.62725496, 56.04990077, 56.78921771]), 'score_time': array([0.01205039, 0.01554084, 0.01302958, 0.01705909, 0.01304865,\n",
      "       0.01557779, 0.01252341, 0.01553416, 0.01609421, 0.01301575]), 'test_score': array([-0.04154846, -0.04154537, -0.04129603, -0.04149781, -0.04172083,\n",
      "       -0.04209475, -0.04137309, -0.04135683, -0.04075121, -0.0409571 ])}\n",
      "Best base estimator is: DecisionTreeRegressor(random_state=1)\n",
      "with a mean MSE of = -0.0974994081996435\n",
      "and a mean fit time of = 0.42708914279937743 seconds\n"
     ]
    }
   ],
   "source": [
    "from sklearn.linear_model import LinearRegression, Ridge, Lasso, ElasticNet\n",
    "from sklearn.svm import SVR\n",
    "from sklearn.neighbors import KNeighborsRegressor\n",
    "from sklearn.tree import DecisionTreeRegressor\n",
    "from sklearn.ensemble import RandomForestRegressor, GradientBoostingRegressor\n",
    "from xgboost import XGBRegressor\n",
    "\n",
    "# Liste des base estimators à tester\n",
    "base_estimators = {\n",
    "    'RandomForestRegressor': RandomForestRegressor(n_estimators=100,random_state=1, max_depth=5),\n",
    "    'LinearRegression': LinearRegression(),\n",
    "    'Ridge': Ridge(),\n",
    "    'Lasso': Lasso(random_state=1),\n",
    "    'ElasticNet': ElasticNet(random_state=1),\n",
    "    'SVR': SVR(),\n",
    "    'KNeighborsRegressor': KNeighborsRegressor(n_neighbors=5),\n",
    "    'DecisionTreeRegressor': DecisionTreeRegressor(random_state=1),\n",
    "    'XGBRegressor': XGBRegressor(n_estimators=100,random_state=1),\n",
    "    'GradientBoostingRegressor': GradientBoostingRegressor(n_estimators=100,random_state=1),\n",
    "}\n",
    "\n",
    "# Utilisez la fonction run_regressor_chain_estimators avec la liste de base estimators\n",
    "best_estimator = run_regressor_chain_estimators(base_estimators, a_grouped_customer, a_product_table)\n"
   ],
   "metadata": {
    "collapsed": false,
    "ExecuteTime": {
     "end_time": "2024-02-16T23:56:14.898684900Z",
     "start_time": "2024-02-16T23:53:15.947027600Z"
    }
   },
   "id": "e7957aad3c87dbae",
   "execution_count": 17
  },
  {
   "cell_type": "markdown",
   "source": [
    "Utiliser Ridge/Lasso/ElasticNet"
   ],
   "metadata": {
    "collapsed": false
   },
   "id": "d92ae8c26b5f955c"
  },
  {
   "cell_type": "code",
   "outputs": [],
   "source": [],
   "metadata": {
    "collapsed": false,
    "ExecuteTime": {
     "end_time": "2024-02-16T23:56:14.899682600Z",
     "start_time": "2024-02-16T23:56:14.894657600Z"
    }
   },
   "id": "4d686fa1a0241252",
   "execution_count": 17
  }
 ],
 "metadata": {
  "kernelspec": {
   "display_name": "Python 3",
   "language": "python",
   "name": "python3"
  },
  "language_info": {
   "codemirror_mode": {
    "name": "ipython",
    "version": 2
   },
   "file_extension": ".py",
   "mimetype": "text/x-python",
   "name": "python",
   "nbconvert_exporter": "python",
   "pygments_lexer": "ipython2",
   "version": "2.7.6"
  }
 },
 "nbformat": 4,
 "nbformat_minor": 5
}
