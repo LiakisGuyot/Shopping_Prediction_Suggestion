{
 "cells": [
  {
   "cell_type": "code",
   "outputs": [],
   "source": [
    "import pandas as pd\n",
    "import numpy as np\n",
    "from sklearn.preprocessing import OneHotEncoder, LabelEncoder\n",
    "#Chargement du dataframe\n",
    "df_customer = pd.read_csv('shopping_behavior_updated.csv', sep=\";\")\n",
    "\n",
    "#On regroupe notre dataframe en fonction des colonnes Age, Gender, Location, Subscription Status, Frequency of Purchases\n",
    "df_customer_info_grouped = df_customer.groupby(['Age','Gender', 'Location', 'Subscription Status','Frequency of Purchases'])\n",
    "\n",
    "def group_values (series):\n",
    "    return list(series)\n",
    "#On regroupe les produits achetés par les clients\n",
    "aggregated_product = df_customer.groupby(['Age','Gender', 'Location', 'Subscription Status','Frequency of Purchases']).agg({\n",
    "    'Item Purchased': group_values,\n",
    "    'Review Rating' : group_values\n",
    "}).reset_index()\n",
    "\n",
    "\n",
    "\n",
    "#On créer notre dataframe correspondant au regroupement des produits achetés par les clients\n",
    "df_grouped_customer_purchase = pd.DataFrame(aggregated_product)\n",
    "\n",
    "print(\"Aggregated product\")\n",
    "print(df_grouped_customer_purchase)\n",
    "\n",
    "df_grouped_customer_purchase.to_csv('grouped_customer_purchase_review.csv', sep=';', index=False)"
   ],
   "metadata": {
    "collapsed": false
   },
   "id": "1d8abb091efd984c"
  }
 ],
 "metadata": {
  "kernelspec": {
   "display_name": "Python 3",
   "language": "python",
   "name": "python3"
  },
  "language_info": {
   "codemirror_mode": {
    "name": "ipython",
    "version": 2
   },
   "file_extension": ".py",
   "mimetype": "text/x-python",
   "name": "python",
   "nbconvert_exporter": "python",
   "pygments_lexer": "ipython2",
   "version": "2.7.6"
  }
 },
 "nbformat": 4,
 "nbformat_minor": 5
}
