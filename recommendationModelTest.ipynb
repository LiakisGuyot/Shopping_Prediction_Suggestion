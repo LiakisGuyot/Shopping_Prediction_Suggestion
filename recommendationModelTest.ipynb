{
 "cells": [
  {
   "cell_type": "markdown",
   "source": [
    "## Import des données et création de la table des produits"
   ],
   "metadata": {
    "collapsed": false
   },
   "id": "39c8340e5e59cc13"
  },
  {
   "cell_type": "code",
   "outputs": [
    {
     "name": "stdout",
     "output_type": "stream",
     "text": [
      "   Age Gender       Location Subscription Status Frequency of Purchases  \\\n",
      "0   55   Male       Kentucky                 Yes            Fortnightly   \n",
      "1   19   Male          Maine                 Yes            Fortnightly   \n",
      "2   50   Male  Massachusetts                 Yes                 Weekly   \n",
      "3   21   Male   Rhode Island                 Yes                 Weekly   \n",
      "4   45   Male         Oregon                 Yes               Annually   \n",
      "\n",
      "   Season  Shipping Type Discount Applied Promo Code Used Payment Method  \n",
      "0  Winter        Express              Yes             Yes          Venmo  \n",
      "1  Winter        Express              Yes             Yes           Cash  \n",
      "2  Spring  Free Shipping              Yes             Yes    Credit Card  \n",
      "3  Spring   Next Day Air              Yes             Yes         PayPal  \n",
      "4  Spring  Free Shipping              Yes             Yes         PayPal  \n"
     ]
    }
   ],
   "source": [
    "import pandas as pd\n",
    "import numpy as np\n",
    "from sklearn.preprocessing import OneHotEncoder, LabelEncoder\n",
    "#Chargement du dataframe\n",
    "df_customer = pd.read_csv('./csv/shopping_behavior_updated.csv', sep=\";\")\n",
    "\n",
    "u_products = df_customer['Item Purchased'].unique()\n",
    "\n",
    "data = {}\n",
    "dataReview = {}\n",
    "\n",
    "for i, row in df_customer.iterrows():\n",
    "    items = row['Item Purchased'].split(', ')\n",
    "    review = row['Review Rating']\n",
    "    indice = 0\n",
    "    for item in items:\n",
    "        if item not in data:\n",
    "            data[item] = [0] * len(df_customer)\n",
    "            dataReview[item + \"_review\"] = [0] * len(df_customer)\n",
    "        data[item][i] += 1\n",
    "        if dataReview[item + \"_review\"][i] == 0:\n",
    "            dataReview[item + \"_review\"][i] = review\n",
    "        else:\n",
    "            dataReview[item + \"_review\"][i] = (review + dataReview[item + \"_review\"][i])/2\n",
    "    \n",
    "df_review_table = pd.DataFrame(dataReview)\n",
    "\n",
    "\n",
    "#On supprime les colonnes non pertinentes \n",
    "df_customer.drop(columns=['Item Purchased'], inplace=True)\n",
    "df_customer.drop(columns=['Customer ID'], inplace=True)\n",
    "df_customer.drop(columns=['Category'], inplace=True)\n",
    "df_customer.drop(columns=['Purchase Amount (USD)'], inplace=True)\n",
    "df_customer.drop(columns=['Previous Purchases'], inplace=True)\n",
    "df_customer.drop(columns=['Color'], inplace=True)\n",
    "df_customer.drop(columns=['Review Rating'], inplace=True)\n",
    "df_customer.drop(columns=['Size'], inplace=True)\n",
    "\n",
    "df_review_table.to_csv('./csv/review_table.csv', sep=\";\", index=False)\n",
    "\n",
    "print(df_customer.head(5))"
   ],
   "metadata": {
    "collapsed": false,
    "ExecuteTime": {
     "end_time": "2024-02-21T09:25:24.703745Z",
     "start_time": "2024-02-21T09:25:15.051225800Z"
    }
   },
   "id": "1d8abb091efd984c",
   "execution_count": 1
  },
  {
   "cell_type": "markdown",
   "source": [
    "## Encodage des données"
   ],
   "metadata": {
    "collapsed": false
   },
   "id": "f5ec4452f9160ddd"
  },
  {
   "cell_type": "code",
   "outputs": [
    {
     "name": "stdout",
     "output_type": "stream",
     "text": [
      "[55 1 16 1 3 3 1 1 1 5]\n"
     ]
    }
   ],
   "source": [
    "import pickle as pk\n",
    "\n",
    "cols_cat_info = [1,2,3,4,5,6,7,8,9]\n",
    "\n",
    "#On créer une copie de notre dataframe source\n",
    "df_grouped_customer = df_customer.copy()\n",
    "\n",
    "#On supprime la colonne des achats\n",
    "\n",
    "a_grouped_customer = df_grouped_customer.values\n",
    "#Encodage des colonnes catégorielles\n",
    "label_encoders_info = [LabelEncoder() for _ in range(len(cols_cat_info))]\n",
    "for i, col_idx in enumerate(cols_cat_info):\n",
    "    a_grouped_customer[:, col_idx] = label_encoders_info[i].fit_transform(a_grouped_customer[:, col_idx])\n",
    "\n",
    "with open('./pickles/label_encoders_recommandation.pkl', 'wb') as f:\n",
    "    pk.dump(label_encoders_info, f)\n",
    "#Print des données encodées\n",
    "print(a_grouped_customer[0])\n",
    "\n",
    "a_product_review = df_review_table.values"
   ],
   "metadata": {
    "collapsed": false,
    "ExecuteTime": {
     "end_time": "2024-02-21T09:25:24.728006900Z",
     "start_time": "2024-02-21T09:25:24.706245Z"
    }
   },
   "id": "c5258da7903436a0",
   "execution_count": 2
  },
  {
   "cell_type": "markdown",
   "source": [
    "## Création du modèle de recommandation\n",
    "\n",
    "Nous entrainons notre modèle pour reconnaitre les k-voisins les plus proches de chaque client\n",
    "Notre prédiction montre l'avis de notre client sur chaque produit, en se basant sur ses avis et les avis des clients les plus proches de lui.\n",
    "\n",
    "Nous considerons que si un avis est ajouté à la ligne des avis déjà réalisés par le client, alors cet avis concerne un produit acheté par un des plus proches voisins du client.\n",
    "Nous considerons, que malgrès le fait la review générée n'ai pas une grande valeur, elle concerne tout de même un produit intéressant pour le client."
   ],
   "metadata": {
    "collapsed": false
   },
   "id": "360acbc2420d83ef"
  },
  {
   "cell_type": "code",
   "outputs": [
    {
     "name": "stdout",
     "output_type": "stream",
     "text": [
      "[[0.775 0.    0.    1.25  0.    0.    0.    0.    0.    0.    0.    0.\n",
      "  0.95  0.    0.    0.    0.    0.    0.    0.    0.    0.825 0.    0.\n",
      "  0.   ]]\n"
     ]
    }
   ],
   "source": [
    "from sklearn.neighbors import KNeighborsRegressor\n",
    "neigh = KNeighborsRegressor(n_neighbors=4)\n",
    "neigh.fit(a_grouped_customer, a_product_review)\n",
    "\n",
    "y_pred = neigh.predict([a_grouped_customer[0]])\n",
    "print(neigh.predict([a_grouped_customer[0]]))\n",
    "\n",
    "with open('./pickles/knn_recommandation.pkl', 'wb') as f:\n",
    "    pk.dump(neigh, f)"
   ],
   "metadata": {
    "collapsed": false,
    "ExecuteTime": {
     "end_time": "2024-02-21T09:25:25.589884800Z",
     "start_time": "2024-02-21T09:25:24.729529800Z"
    }
   },
   "id": "f622ec82d8fc138c",
   "execution_count": 3
  },
  {
   "cell_type": "markdown",
   "source": [
    "## Création de la fonction de recommandation à partir de la prédiction du modèle"
   ],
   "metadata": {
    "collapsed": false
   },
   "id": "3a734fbf74f81682"
  },
  {
   "cell_type": "code",
   "outputs": [
    {
     "name": "stdout",
     "output_type": "stream",
     "text": [
      "Blouse\n",
      "['Sandals', 'Sunglasses', 'Backpack']\n"
     ]
    }
   ],
   "source": [
    "df_customer = pd.read_csv('./csv/shopping_behavior_updated.csv', sep=\";\")\n",
    "\n",
    "#On récupère l'ensemble des valeurs unique des produits\n",
    "u_products = df_customer['Item Purchased'].str.split(', ', expand = True).stack().unique()\n",
    "\n",
    "def getItemsToRecommend(uniqueProducts, idClient, prediction): \n",
    "    recommendedItems = []\n",
    "    alreadyBought = []\n",
    "    #On récupère les produits déjà achetés\n",
    "    for i in range(len(a_product_review[idClient])):\n",
    "        if a_product_review[idClient][i] > 0:\n",
    "            print(uniqueProducts[i])\n",
    "            alreadyBought.append(uniqueProducts[i])\n",
    "            \n",
    "    #On récupère les produits recommandés\n",
    "    for j in range(len(prediction[0])):\n",
    "        if prediction[0][j] > 0:\n",
    "            #Si le produit n'est pas déjà acheté on l'ajoute à la liste des recommandations\n",
    "            if uniqueProducts[j] not in alreadyBought:\n",
    "                recommendedItems.append(uniqueProducts[j])\n",
    "    return recommendedItems\n",
    "\n",
    "\n",
    "print(getItemsToRecommend(u_products, 0, y_pred))"
   ],
   "metadata": {
    "collapsed": false,
    "ExecuteTime": {
     "end_time": "2024-02-21T09:25:25.636135400Z",
     "start_time": "2024-02-21T09:25:25.586225100Z"
    }
   },
   "id": "46929bf8927f1bc5",
   "execution_count": 4
  }
 ],
 "metadata": {
  "kernelspec": {
   "display_name": "Python 3",
   "language": "python",
   "name": "python3"
  },
  "language_info": {
   "codemirror_mode": {
    "name": "ipython",
    "version": 2
   },
   "file_extension": ".py",
   "mimetype": "text/x-python",
   "name": "python",
   "nbconvert_exporter": "python",
   "pygments_lexer": "ipython2",
   "version": "2.7.6"
  }
 },
 "nbformat": 4,
 "nbformat_minor": 5
}
