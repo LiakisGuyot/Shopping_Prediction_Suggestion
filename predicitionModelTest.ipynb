{
 "cells": [
  {
   "cell_type": "markdown",
   "source": [
    "## Importation des librairies et transformation des données"
   ],
   "metadata": {
    "collapsed": false
   },
   "id": "940da05dd915cfd3"
  },
  {
   "cell_type": "markdown",
   "source": [
    "## Création de la table des produits"
   ],
   "metadata": {
    "collapsed": false
   },
   "id": "b858287d3c85f102"
  },
  {
   "cell_type": "code",
   "outputs": [
    {
     "name": "stdout",
     "output_type": "stream",
     "text": [
      "      Blouse  Sweater  Jeans  Sandals  Sneakers  Shirt  Shorts  Coat  Handbag  \\\n",
      "0          1        0      0        0         0      0       0     0        0   \n",
      "1          0        1      0        0         0      0       0     0        0   \n",
      "2          0        0      1        0         0      0       0     0        0   \n",
      "3          0        0      0        1         0      0       0     0        0   \n",
      "4          1        0      0        0         0      0       0     0        0   \n",
      "...      ...      ...    ...      ...       ...    ...     ...   ...      ...   \n",
      "3895       0        0      0        0         0      0       0     0        0   \n",
      "3896       0        0      0        0         0      0       0     0        0   \n",
      "3897       0        0      0        0         0      0       0     0        0   \n",
      "3898       0        0      0        0         0      0       0     0        0   \n",
      "3899       0        0      0        0         0      0       0     0        1   \n",
      "\n",
      "      Shoes  ...  Hoodie  Jewelry  T-shirt  Scarf  Hat  Socks  Backpack  Belt  \\\n",
      "0         0  ...       0        0        0      0    0      0         0     0   \n",
      "1         0  ...       0        0        0      0    0      0         0     0   \n",
      "2         0  ...       0        0        0      0    0      0         0     0   \n",
      "3         0  ...       0        0        0      0    0      0         0     0   \n",
      "4         0  ...       0        0        0      0    0      0         0     0   \n",
      "...     ...  ...     ...      ...      ...    ...  ...    ...       ...   ...   \n",
      "3895      0  ...       1        0        0      0    0      0         0     0   \n",
      "3896      0  ...       0        0        0      0    0      0         1     0   \n",
      "3897      0  ...       0        0        0      0    0      0         0     1   \n",
      "3898      1  ...       0        0        0      0    0      0         0     0   \n",
      "3899      0  ...       0        0        0      0    0      0         0     0   \n",
      "\n",
      "      Boots  Gloves  \n",
      "0         0       0  \n",
      "1         0       0  \n",
      "2         0       0  \n",
      "3         0       0  \n",
      "4         0       0  \n",
      "...     ...     ...  \n",
      "3895      0       0  \n",
      "3896      0       0  \n",
      "3897      0       0  \n",
      "3898      0       0  \n",
      "3899      0       0  \n",
      "\n",
      "[3900 rows x 25 columns]\n",
      "   Age Gender       Location Subscription Status Frequency of Purchases  \\\n",
      "0   55   Male       Kentucky                 Yes            Fortnightly   \n",
      "1   19   Male          Maine                 Yes            Fortnightly   \n",
      "2   50   Male  Massachusetts                 Yes                 Weekly   \n",
      "3   21   Male   Rhode Island                 Yes                 Weekly   \n",
      "4   45   Male         Oregon                 Yes               Annually   \n",
      "\n",
      "   Season  Shipping Type Discount Applied Promo Code Used Payment Method  \n",
      "0  Winter        Express              Yes             Yes          Venmo  \n",
      "1  Winter        Express              Yes             Yes           Cash  \n",
      "2  Spring  Free Shipping              Yes             Yes    Credit Card  \n",
      "3  Spring   Next Day Air              Yes             Yes         PayPal  \n",
      "4  Spring  Free Shipping              Yes             Yes         PayPal  \n"

     ]
    }
   ],
   "source": [
    "import pandas as pd\n",
    "import pickle as pk\n",
    "import numpy as np\n",
    "from sklearn.preprocessing import OneHotEncoder, LabelEncoder\n",
    "#Chargement du dataframe\n",
    "df_customer = pd.read_csv('./csv/shopping_behavior_updated.csv', sep=\";\")\n",
    "\n",
    "#On récupère l'ensemble des valeurs unique des produits\n",
    "u_products = df_customer['Item Purchased'].str.split(', ', expand = True).stack().unique()\n",
    "\n",
    "#On créer un dictionnaire qui représente la table d'achats des produits\n",
    "data = {}\n",
    "\n",
    "#On modifie la valeur stocké si le client a acheté ce produit\n",
    "for i, row in df_customer.iterrows():\n",
    "    items = row['Item Purchased'].split(', ')\n",
    "    for item in items:\n",
    "        if item not in data:\n",
    "            data[item] = [0] * len(df_customer)\n",
    "        data[item][i] += 1\n",
    "df_product_table = pd.DataFrame(data)\n",
    "df_product_table.to_csv('./csv/product_table.csv', sep=\";\", index=False)\n",
    "\n",
    "print(df_product_table)\n",
    "\n",
    "df_customer.drop(columns=['Item Purchased'], inplace=True)\n",
    "df_customer.drop(columns=['Customer ID'], inplace=True)\n",
    "df_customer.drop(columns=['Category'], inplace=True)\n",
    "df_customer.drop(columns=['Purchase Amount (USD)'], inplace=True)\n",
    "df_customer.drop(columns=['Previous Purchases'], inplace=True)\n",
    "df_customer.drop(columns=['Color'], inplace=True)\n",
    "df_customer.drop(columns=['Review Rating'], inplace=True)\n",
    "df_customer.drop(columns=['Size'], inplace=True)\n",
    "\n",
    "print(df_customer.head())"
   ],
   "metadata": {
    "collapsed": false,
    "ExecuteTime": {
     "end_time": "2024-02-20T22:11:52.627939500Z",
     "start_time": "2024-02-20T22:11:52.406631200Z"
    }
   },
   "id": "11a686d543500ea4",
   "execution_count": 56
  },
  {
   "cell_type": "markdown",
   "source": [
    "## Encodage des données"
   ],
   "metadata": {
    "collapsed": false
   },
   "id": "4d76f647bb3ed3f9"
  },
  {
   "cell_type": "code",
   "outputs": [
    {
     "name": "stdout",
     "output_type": "stream",
     "text": [
      "[55 1 16 1 3 3 1 1 1 5]\n"
     ]
    }
   ],
   "source": [
    "#Indexe des colonnes catégorielles (Gender,Location, Subscription Status, Frequency of Purchases)\n",
    "cols_cat_info = [1,2,3,4,5,6,7,8,9]\n",
    "\n",
    "#On créer une copie de notre dataframe source\n",
    "df_grouped_customer = df_customer.copy()\n",
    "\n",
    "#On supprime la colonne des achats\n",
    "\n",
    "a_grouped_customer = df_grouped_customer.values\n",
    "#Encodage des colonnes catégorielles\n",
    "label_encoders_info = [LabelEncoder() for _ in range(len(cols_cat_info))]\n",
    "for i, col_idx in enumerate(cols_cat_info):\n",
    "    a_grouped_customer[:, col_idx] = label_encoders_info[i].fit_transform(a_grouped_customer[:, col_idx])\n",
    "\n",
    "with open('./pickles/label_encoders_info_test.pkl', 'wb') as f:\n",
    "    pk.dump(label_encoders_info, f)\n",
    "#Print des données encodées\n",
    "print(a_grouped_customer[0])\n",
    "\n"
   ],
   "metadata": {
    "collapsed": false,
    "ExecuteTime": {
     "end_time": "2024-02-20T22:11:52.659081100Z",
     "start_time": "2024-02-20T22:11:52.625437Z"
    }
   },
   "id": "4b9d21ccd62a4247",
   "execution_count": 57
  },
  {
   "cell_type": "code",
   "outputs": [],
   "source": [],
   "metadata": {
    "collapsed": false,
    "ExecuteTime": {
     "end_time": "2024-02-20T22:11:52.659583Z",
     "start_time": "2024-02-20T22:11:52.636525800Z"
    }
   },
   "id": "964e5bae21369516",
   "execution_count": 57
  },
  {
   "cell_type": "markdown",
   "source": [
    "## Initialisation du modèle"
   ],
   "metadata": {
    "collapsed": false
   },
   "id": "e87a275aa1f18caa"
  },
  {
   "cell_type": "code",
   "outputs": [
    {
     "name": "stdout",
     "output_type": "stream",
     "text": [
      "[55 1 16 1 3 3 1 1 1 5]\n",
      "MSE :  0.005629907692307692\n",
      "[0.69 0.01 0.   0.02 0.03 0.   0.01 0.01 0.01 0.   0.02 0.02 0.03 0.02\n",
      " 0.03 0.01 0.   0.02 0.03 0.   0.   0.   0.03 0.01 0.01]\n",
      "[[0.01 0.19 0.1  0.02 0.05 0.02 0.04 0.21 0.13 0.02 0.   0.01 0.   0.2\n",
      "  0.09 0.15 0.07 0.04 0.02 0.12 0.05 0.09 0.35 0.13 0.35]]\n"
     ]
    }
   ],
   "source": [
    "from sklearn.multioutput import RegressorChain\n",
    "from sklearn.ensemble import RandomForestRegressor\n",
    "from sklearn.metrics import mean_squared_error\n",
    "\n",
    "a_product_table = df_product_table.values\n",
    "print(a_grouped_customer[0])\n",
    "#Initialisation du modèle\n",
    "chained_model = RegressorChain(RandomForestRegressor(n_estimators=100, random_state=1), random_state=1)\n",
    "chained_model.fit(a_grouped_customer, a_product_table)\n",
    "\n",
    "y_pred = chained_model.predict(a_grouped_customer)\n",
    "print(\"MSE : \",mean_squared_error(a_product_table, y_pred))\n",
    "print(y_pred[0])\n",
    "\n",
    "y_new_pred = chained_model.predict([[20, 2, 16, 1,1 , 2, 1,1, 1, 2]])\n",
    "print(y_new_pred)\n",
    "\n",
    "\n",
    "with open('./pickles/predictionModelTest.pkl', 'wb') as f:\n",
    "    pk.dump(chained_model, f)\n",
    "    "
   ],
   "metadata": {
    "collapsed": false,
    "ExecuteTime": {
     "end_time": "2024-02-20T22:12:09.289565600Z",
     "start_time": "2024-02-20T22:11:52.643050800Z"
    }
   },
   "id": "37edc55ae502642e",
   "execution_count": 58
  },
  {
   "cell_type": "code",
   "outputs": [
    {
     "name": "stdout",
     "output_type": "stream",
     "text": [
      "['Gloves', 'Belt', 'Coat']\n"
     ]
    }
   ],
   "source": [
    "df_customer = pd.read_csv('./csv/shopping_behavior_updated.csv', sep=\";\")\n",
    "\n",
    "#On récupère l'ensemble des valeurs unique des produits\n",
    "u_products = df_customer['Item Purchased'].str.split(', ', expand = True).stack().unique()\n",
    "\n",
    "def predictedProduct(uniqueProduct, y_new_pred):\n",
    "    products = y_new_pred[0]\n",
    "    idProductRecommand = np.argsort((-products))\n",
    "    list = [uniqueProduct[i] for i in idProductRecommand[:3]]\n",
    "    return list\n",
    "\n",
    "print(predictedProduct(u_products, y_new_pred))"
   ],
   "metadata": {
    "collapsed": false,
    "ExecuteTime": {
     "end_time": "2024-02-20T22:12:09.294914700Z",
     "start_time": "2024-02-20T22:12:09.289059600Z"
    }
   },
   "id": "f9a981213aaa8c62",
   "execution_count": 59
  },
  {
   "cell_type": "code",
   "outputs": [],
   "source": [],
   "metadata": {
    "collapsed": false,
    "ExecuteTime": {
     "end_time": "2024-02-20T22:12:09.295412600Z",
     "start_time": "2024-02-20T22:12:09.291901200Z"
    }
   },
   "id": "53a6d79ac4bba614",
   "execution_count": 59
  }
 ],
 "metadata": {
  "kernelspec": {
   "display_name": "Python 3",
   "language": "python",
   "name": "python3"
  },
  "language_info": {
   "codemirror_mode": {
    "name": "ipython",
    "version": 2
   },
   "file_extension": ".py",
   "mimetype": "text/x-python",
   "name": "python",
   "nbconvert_exporter": "python",
   "pygments_lexer": "ipython2",
   "version": "2.7.6"
  }
 },
 "nbformat": 4,
 "nbformat_minor": 5
}
